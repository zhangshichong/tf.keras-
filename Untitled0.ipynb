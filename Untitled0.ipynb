{
  "nbformat": 4,
  "nbformat_minor": 0,
  "metadata": {
    "colab": {
      "name": "Untitled0.ipynb",
      "version": "0.3.2",
      "provenance": [],
      "include_colab_link": true
    },
    "kernelspec": {
      "name": "python3",
      "display_name": "Python 3"
    }
  },
  "cells": [
    {
      "cell_type": "markdown",
      "metadata": {
        "id": "view-in-github",
        "colab_type": "text"
      },
      "source": [
        "<a href=\"https://colab.research.google.com/github/zhangshichong/tf.keras-/blob/master/Untitled0.ipynb\" target=\"_parent\"><img src=\"https://colab.research.google.com/assets/colab-badge.svg\" alt=\"Open In Colab\"/></a>"
      ]
    },
    {
      "cell_type": "code",
      "metadata": {
        "id": "alwWyQUeA_4b",
        "colab_type": "code",
        "colab": {
          "base_uri": "https://localhost:8080/",
          "height": 50
        },
        "outputId": "8fba6093-be5f-4c81-aca3-6d428bd0d6cf"
      },
      "source": [
        "import tensorflow as tf\n",
        "from tensorflow.keras import layers\n",
        "\n",
        "print(tf.VERSION)\n",
        "print(tf.keras.__version__)"
      ],
      "execution_count": 7,
      "outputs": [
        {
          "output_type": "stream",
          "text": [
            "1.14.0\n",
            "2.2.4-tf\n"
          ],
          "name": "stdout"
        }
      ]
    },
    {
      "cell_type": "code",
      "metadata": {
        "id": "dlq-xVdgCd01",
        "colab_type": "code",
        "colab": {
          "base_uri": "https://localhost:8080/",
          "height": 104
        },
        "outputId": "e5141e6b-75b0-4e8d-c3c7-2b5cda5fcb55"
      },
      "source": [
        "#构建一个简单的全连接网络，即多层感知机\n",
        "model = tf.keras.Sequential()\n",
        "model.add(layers.Dense(64, activation='relu'))\n",
        "model.add(layers.Dense(64, activation='relu'))\n",
        "model.add(layers.Dense(10, activation='softmax'))\n"
      ],
      "execution_count": 2,
      "outputs": [
        {
          "output_type": "stream",
          "text": [
            "WARNING: Logging before flag parsing goes to stderr.\n",
            "W0815 02:33:20.309317 140515514267520 deprecation.py:506] From /usr/local/lib/python3.6/dist-packages/tensorflow/python/ops/init_ops.py:1251: calling VarianceScaling.__init__ (from tensorflow.python.ops.init_ops) with dtype is deprecated and will be removed in a future version.\n",
            "Instructions for updating:\n",
            "Call initializer instance with the dtype argument instead of passing it to the constructor\n"
          ],
          "name": "stderr"
        }
      ]
    },
    {
      "cell_type": "markdown",
      "metadata": {
        "id": "iHegSQqQEPDL",
        "colab_type": "text"
      },
      "source": [
        "可以使用很多tf.keras.layer\n",
        "\n",
        "他们具有一些相同的构造函数参数\n",
        "\n",
        "activation：设置层的激活函数，默认情况下不使用任何激活函数。\n",
        "\n",
        "kenerl_initializer  bias_initializer：创建层权重（核和偏差）的初始化方案。默认为'Glorot uniform'\n",
        "\n",
        "kernel_regularizer bias_regularizer：应用层权重（核和偏差）的正则化方案。例如L1和L2正则化，默认情况下没有。\n"
      ]
    },
    {
      "cell_type": "code",
      "metadata": {
        "id": "72muFD_JEEJ1",
        "colab_type": "code",
        "colab": {
          "base_uri": "https://localhost:8080/",
          "height": 34
        },
        "outputId": "80256f2e-9aa3-4ca7-f63c-957c893f1923"
      },
      "source": [
        "#create a sigmoid layer\n",
        "layers.Dense(64, activation='sigmoid')\n",
        "\n",
        "#正则化是为了降低过拟合\n",
        "#a linear layer with L1 regularization of factor 0.01 applied to the kernel matrix\n",
        "layers.Dense(64, kernel_regularizer=tf.keras.regularizers.l1(0.01))\n",
        "\n",
        "#a linear layer with L2 regularization of factor 0.01 applied to the bias vector\n",
        "layers.Dense(64, bias_regularizer=tf.keras.regularizers.l2(0.01))\n",
        "\n",
        "#a linear layer with a kernel initialized to a random orthogonal matrix(正交矩阵)\n",
        "layers.Dense(64, kernel_initializer='orthogonal')\n",
        "\n",
        "#a linear layer with a bias vector initialized to 2.0s\n",
        "layers.Dense(64, bias_initializer=tf.keras.initializers.constant(2.0))\n"
      ],
      "execution_count": 6,
      "outputs": [
        {
          "output_type": "execute_result",
          "data": {
            "text/plain": [
              "<tensorflow.python.keras.layers.core.Dense at 0x7fcc177b0320>"
            ]
          },
          "metadata": {
            "tags": []
          },
          "execution_count": 6
        }
      ]
    },
    {
      "cell_type": "markdown",
      "metadata": {
        "id": "GjjtQBJpJ_sY",
        "colab_type": "text"
      },
      "source": [
        "调用compile配置该模型的学习流程\n",
        "\n",
        "tf.keras.Model.compile重要参数：\n",
        "\n",
        "optimizer：制定训练过程，从tf.train模块向其传递优化器实例，例如tf.train.AdamOptimizer  tf.train.RMSPropOptimizer  tf.train.GradientDecentOptimizer\n",
        "\n",
        "loss：要在优化期间最小化的函数，常见的有均方误差（mse）、categorical_crossentropy、binary_crossentropy。损失函数由名称或通过从tf.keras.losses模块传递可调用对象来指定。\n",
        "\n",
        "metrics：用于监控训练。它们是tf.keras.metrics模块中的字符名称或可调用对象。"
      ]
    },
    {
      "cell_type": "code",
      "metadata": {
        "id": "N_dSY7T2I1kg",
        "colab_type": "code",
        "colab": {
          "base_uri": "https://localhost:8080/",
          "height": 390
        },
        "outputId": "435e3585-a0ba-4fbf-8280-06010a2f8c81"
      },
      "source": [
        "import tensorflow as tf\n",
        "from tensorflow.keras import layers\n",
        "import numpy as np\n",
        "#训练流程\n",
        "model = tf.keras.Sequential([\n",
        "    layers.Dense(64, activation='relu'),\n",
        "    layers.Dense(64, activation='relu'),\n",
        "    layers.Dense(10, activation='softmax')\n",
        "])\n",
        "model.compile(optimizer=tf.train.AdamOptimizer(0.001),\n",
        "              loss='categorical_crossentropy',\n",
        "              metrics=['accuracy'])\n",
        "data = np.random.random((1000, 32))\n",
        "labels = np.random.random((1000, 10))\n",
        "\n",
        "model.fit(data, labels, epochs=10, batch_size=32)"
      ],
      "execution_count": 8,
      "outputs": [
        {
          "output_type": "stream",
          "text": [
            "Epoch 1/10\n",
            "1000/1000 [==============================] - 0s 127us/sample - loss: 11.6748 - acc: 0.1060\n",
            "Epoch 2/10\n",
            "1000/1000 [==============================] - 0s 67us/sample - loss: 15.3278 - acc: 0.1140\n",
            "Epoch 3/10\n",
            "1000/1000 [==============================] - 0s 55us/sample - loss: 32.3370 - acc: 0.1350\n",
            "Epoch 4/10\n",
            "1000/1000 [==============================] - 0s 55us/sample - loss: 65.9082 - acc: 0.1200\n",
            "Epoch 5/10\n",
            "1000/1000 [==============================] - 0s 66us/sample - loss: 111.6277 - acc: 0.1140\n",
            "Epoch 6/10\n",
            "1000/1000 [==============================] - 0s 60us/sample - loss: 166.0496 - acc: 0.1180\n",
            "Epoch 7/10\n",
            "1000/1000 [==============================] - 0s 66us/sample - loss: 222.8476 - acc: 0.1150\n",
            "Epoch 8/10\n",
            "1000/1000 [==============================] - 0s 55us/sample - loss: 284.6535 - acc: 0.1190\n",
            "Epoch 9/10\n",
            "1000/1000 [==============================] - 0s 56us/sample - loss: 316.0585 - acc: 0.1050\n",
            "Epoch 10/10\n",
            "1000/1000 [==============================] - 0s 55us/sample - loss: 292.6850 - acc: 0.1170\n"
          ],
          "name": "stdout"
        },
        {
          "output_type": "execute_result",
          "data": {
            "text/plain": [
              "<tensorflow.python.keras.callbacks.History at 0x7fccdd48d438>"
            ]
          },
          "metadata": {
            "tags": []
          },
          "execution_count": 8
        }
      ]
    },
    {
      "cell_type": "markdown",
      "metadata": {
        "id": "EgnB85ZGVYV3",
        "colab_type": "text"
      },
      "source": [
        "tf.keras.Model.fit 采用三个重要参数：\n",
        "\n",
        "epochs：以周期为单位进行训练。一个周期是对整个输入数据的一次迭代（以较小的批次完成迭代）。\n",
        "\n",
        "\n",
        "batch_size：当传递 NumPy 数据时，模型将数据分成较小的批次，并在训练期间迭代这些批次。此整数指定每个批次的大小。请注意，如果样本总数不能被批次大小整除，则最后一个批次可能更小。\n",
        "\n",
        "\n",
        "validation_data：在对模型进行原型设计时，您需要轻松监控该模型在某些验证数据上达到的效果。传递此参数（输入和标签元组）可以让该模型在每个周期结束时以推理模式显示所传递数据的损失和指标。"
      ]
    },
    {
      "cell_type": "code",
      "metadata": {
        "id": "DY7vIgQIU-Nd",
        "colab_type": "code",
        "colab": {}
      },
      "source": [
        "val_data = np.random.random((100, 32))\n",
        "val_labels = np.random.random((100, 10))\n",
        "\n",
        "model.fit(data, labels, epochs=10, batch_size=32, validation_data=(val_data, val_labels))"
      ],
      "execution_count": 0,
      "outputs": []
    },
    {
      "cell_type": "markdown",
      "metadata": {
        "id": "uNOxIBPZWu11",
        "colab_type": "text"
      },
      "source": [
        "输入 tf.data 数据集\n",
        "使用 Datasets API 可扩展为大型数据集或多设备训练。将 tf.data.Dataset 实例传递到 fit 方法：\n",
        "\n",
        "\n",
        "fit 方法使用了 steps_per_epoch 参数（表示模型在进入下一个周期之前运行的训练步数）。由于 Dataset 会生成批次数据，因此该代码段不需要 batch_size。\n"
      ]
    },
    {
      "cell_type": "code",
      "metadata": {
        "id": "uGgYCUH2WFK-",
        "colab_type": "code",
        "colab": {}
      },
      "source": [
        "dataset = tf.data.Dataset.from_tensor_slices((data, labels))\n",
        "dataset = dataset.batch(32)\n",
        "dataset = dataset.repeat()\n",
        "model.fit(dataset, epochs=10, steps_per_epoch=30)"
      ],
      "execution_count": 0,
      "outputs": []
    },
    {
      "cell_type": "markdown",
      "metadata": {
        "id": "uvCHvUQ-XjTv",
        "colab_type": "text"
      },
      "source": [
        "评估和预测\n",
        "tf.keras.Model.evaluate 和 tf.keras.Model.predict 方法可以使用 NumPy 数据和 tf.data.Dataset。"
      ]
    },
    {
      "cell_type": "code",
      "metadata": {
        "id": "aPSJ4rqhXAll",
        "colab_type": "code",
        "colab": {
          "base_uri": "https://localhost:8080/",
          "height": 87
        },
        "outputId": "3d70ad40-ad96-41eb-937c-0abaaa2ebc51"
      },
      "source": [
        "model.evaluate(data, labels, batch_size=32)\n",
        "model.evaluate(dataset, steps=30)"
      ],
      "execution_count": 11,
      "outputs": [
        {
          "output_type": "stream",
          "text": [
            "1000/1000 [==============================] - 0s 57us/sample - loss: 324.1834 - acc: 0.0940\n",
            "30/30 [==============================] - 0s 4ms/step - loss: 324.5640 - acc: 0.0938\n"
          ],
          "name": "stdout"
        },
        {
          "output_type": "execute_result",
          "data": {
            "text/plain": [
              "[324.564013671875, 0.09375]"
            ]
          },
          "metadata": {
            "tags": []
          },
          "execution_count": 11
        }
      ]
    },
    {
      "cell_type": "markdown",
      "metadata": {
        "id": "ph8frBfEYIzw",
        "colab_type": "text"
      },
      "source": [
        "**构建高级模型**\n",
        "\n",
        "\n",
        "函数式 API\n",
        "\n",
        "\n",
        "tf.keras.Sequential 模型是层的简单堆叠，无法表示任意模型。使用 Keras 函数式 API 可以构建复杂的模型拓扑，例如：\n",
        "\n",
        "多输入模型，\n",
        "多输出模型，\n",
        "具有共享层的模型（同一层被调用多次），\n",
        "具有非序列数据流的模型（例如，剩余连接）。\n",
        "\n",
        "\n",
        "使用函数式 API 构建的模型具有以下特征：\n",
        "\n",
        "层实例可调用并返回张量。\n",
        "输入张量和输出张量用于定义 tf.keras.Model 实例。\n",
        "此模型的训练方式和 Sequential 模型一样。"
      ]
    },
    {
      "cell_type": "code",
      "metadata": {
        "id": "RQrfgNGGX2Rl",
        "colab_type": "code",
        "colab": {
          "base_uri": "https://localhost:8080/",
          "height": 289
        },
        "outputId": "dce944da-237e-4f0b-bd9c-49f6f4bcd588"
      },
      "source": [
        "#示例：使用函数式API构建一个简单的全连接网络\n",
        "inputs = tf.keras.Input(shape=(32,)) #return a placeholder\n",
        "#A layer instance is callable on a tensor, and returns a tensor\n",
        "x = layers.Dense(64, activation='relu')(inputs)\n",
        "x = layers.Dense(64, activation='relu')(x)\n",
        "predictions = layers.Dense(10, activation='softmax')(x)\n",
        "\n",
        "model = tf.keras.Model(inputs=inputs, outputs=predictions)\n",
        "model.compile(optimizer=tf.train.RMSPropOptimizer(0.001), \n",
        "              loss='categorical_crossentropy', \n",
        "             metrics=['accuracy'])\n",
        "model.fit(data, labels, batch_size=32, epochs=5)"
      ],
      "execution_count": 13,
      "outputs": [
        {
          "output_type": "stream",
          "text": [
            "W0815 08:33:13.204804 140518922024832 deprecation.py:506] From /usr/local/lib/python3.6/dist-packages/tensorflow/python/training/rmsprop.py:119: calling Ones.__init__ (from tensorflow.python.ops.init_ops) with dtype is deprecated and will be removed in a future version.\n",
            "Instructions for updating:\n",
            "Call initializer instance with the dtype argument instead of passing it to the constructor\n"
          ],
          "name": "stderr"
        },
        {
          "output_type": "stream",
          "text": [
            "Epoch 1/5\n",
            "1000/1000 [==============================] - 0s 127us/sample - loss: 11.6801 - acc: 0.0870\n",
            "Epoch 2/5\n",
            "1000/1000 [==============================] - 0s 58us/sample - loss: 12.1493 - acc: 0.1030\n",
            "Epoch 3/5\n",
            "1000/1000 [==============================] - 0s 80us/sample - loss: 16.6517 - acc: 0.0970\n",
            "Epoch 4/5\n",
            "1000/1000 [==============================] - 0s 57us/sample - loss: 24.5792 - acc: 0.1140\n",
            "Epoch 5/5\n",
            "1000/1000 [==============================] - 0s 68us/sample - loss: 30.3650 - acc: 0.1050\n"
          ],
          "name": "stdout"
        },
        {
          "output_type": "execute_result",
          "data": {
            "text/plain": [
              "<tensorflow.python.keras.callbacks.History at 0x7fccdafc52b0>"
            ]
          },
          "metadata": {
            "tags": []
          },
          "execution_count": 13
        }
      ]
    },
    {
      "cell_type": "markdown",
      "metadata": {
        "id": "uvyuIX_mdaBX",
        "colab_type": "text"
      },
      "source": [
        "**模型子类化**\n",
        "\n",
        "\n",
        "通过对 tf.keras.Model 进行子类化并定义您自己的前向传播来构建完全可自定义的模型。在 __init__ 方法中创建层并将它们设置为类实例的属性。在 call 方法中定义前向传播。\n",
        "\n",
        "\n",
        "在启用 Eager Execution 时，模型子类化特别有用，因为可以命令式地编写前向传播。"
      ]
    },
    {
      "cell_type": "code",
      "metadata": {
        "id": "Xb23hedqaEZI",
        "colab_type": "code",
        "colab": {}
      },
      "source": [
        "class MyModel(tf.keras.Model):\n",
        "  def __init__(self, num_classes=10):\n",
        "    super(MyModel, self).__init__(name='my_model')\n",
        "    self.num_classes = num_classes\n",
        "    self.dense_1 = layers.Dense(32, activation='relu')\n",
        "    self.dense_2 = layers.Dense(num_classes, activation='sigmoid')\n",
        "  def call(ses)"
      ],
      "execution_count": 0,
      "outputs": []
    }
  ]
}