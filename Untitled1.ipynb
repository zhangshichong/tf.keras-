{
  "nbformat": 4,
  "nbformat_minor": 0,
  "metadata": {
    "colab": {
      "name": "Untitled0.ipynb",
      "version": "0.3.2",
      "provenance": [],
      "include_colab_link": true
    },
    "kernelspec": {
      "name": "python3",
      "display_name": "Python 3"
    }
  },
  "cells": [
    {
      "cell_type": "markdown",
      "metadata": {
        "id": "view-in-github",
        "colab_type": "text"
      },
      "source": [
        "<a href=\"https://colab.research.google.com/github/zhangshichong/tf.keras-/blob/master/Untitled1.ipynb\" target=\"_parent\"><img src=\"https://colab.research.google.com/assets/colab-badge.svg\" alt=\"Open In Colab\"/></a>"
      ]
    },
    {
      "cell_type": "code",
      "metadata": {
        "id": "alwWyQUeA_4b",
        "colab_type": "code",
        "outputId": "8bdc84ba-a4ae-4583-9b84-d7d46906d6d4",
        "colab": {
          "base_uri": "https://localhost:8080/",
          "height": 53
        }
      },
      "source": [
        "import tensorflow as tf\n",
        "from tensorflow.keras import layers\n",
        "\n",
        "print(tf.VERSION)\n",
        "print(tf.keras.__version__)"
      ],
      "execution_count": 3,
      "outputs": [
        {
          "output_type": "stream",
          "text": [
            "1.14.0\n",
            "2.2.4-tf\n"
          ],
          "name": "stdout"
        }
      ]
    },
    {
      "cell_type": "code",
      "metadata": {
        "id": "dlq-xVdgCd01",
        "colab_type": "code",
        "colab": {}
      },
      "source": [
        "#构建一个简单的全连接网络，即多层感知机\n",
        "model = tf.keras.Sequential()\n",
        "model.add(layers.Dense(64, activation='relu'))\n",
        "model.add(layers.Dense(64, activation='relu'))\n",
        "model.add(layers.Dense(10, activation='softmax'))\n"
      ],
      "execution_count": 0,
      "outputs": []
    },
    {
      "cell_type": "markdown",
      "metadata": {
        "id": "iHegSQqQEPDL",
        "colab_type": "text"
      },
      "source": [
        "可以使用很多tf.keras.layer\n",
        "\n",
        "他们具有一些相同的构造函数参数\n",
        "\n",
        "activation：设置层的激活函数，默认情况下不使用任何激活函数。\n",
        "\n",
        "kenerl_initializer  bias_initializer：创建层权重（核和偏差）的初始化方案。默认为'Glorot uniform'\n",
        "\n",
        "kernel_regularizer bias_regularizer：应用层权重（核和偏差）的正则化方案。例如L1和L2正则化，默认情况下没有。\n"
      ]
    },
    {
      "cell_type": "code",
      "metadata": {
        "id": "72muFD_JEEJ1",
        "colab_type": "code",
        "outputId": "5d30415d-8205-42f6-decb-015ba765aede",
        "colab": {
          "base_uri": "https://localhost:8080/",
          "height": 35
        }
      },
      "source": [
        "#create a sigmoid layer\n",
        "layers.Dense(64, activation='sigmoid')\n",
        "\n",
        "#正则化是为了降低过拟合\n",
        "#a linear layer with L1 regularization of factor 0.01 applied to the kernel matrix\n",
        "layers.Dense(64, kernel_regularizer=tf.keras.regularizers.l1(0.01))\n",
        "\n",
        "#a linear layer with L2 regularization of factor 0.01 applied to the bias vector\n",
        "layers.Dense(64, bias_regularizer=tf.keras.regularizers.l2(0.01))\n",
        "\n",
        "#a linear layer with a kernel initialized to a random orthogonal matrix(正交矩阵)\n",
        "layers.Dense(64, kernel_initializer='orthogonal')\n",
        "\n",
        "#a linear layer with a bias vector initialized to 2.0s\n",
        "layers.Dense(64, bias_initializer=tf.keras.initializers.constant(2.0))\n"
      ],
      "execution_count": 5,
      "outputs": [
        {
          "output_type": "execute_result",
          "data": {
            "text/plain": [
              "<tensorflow.python.keras.layers.core.Dense at 0x7fc20f584dd8>"
            ]
          },
          "metadata": {
            "tags": []
          },
          "execution_count": 5
        }
      ]
    },
    {
      "cell_type": "markdown",
      "metadata": {
        "id": "GjjtQBJpJ_sY",
        "colab_type": "text"
      },
      "source": [
        "调用compile配置该模型的学习流程\n",
        "\n",
        "tf.keras.Model.compile重要参数：\n",
        "\n",
        "optimizer：制定训练过程，从tf.train模块向其传递优化器实例，例如tf.train.AdamOptimizer  tf.train.RMSPropOptimizer  tf.train.GradientDecentOptimizer\n",
        "\n",
        "loss：要在优化期间最小化的函数，常见的有均方误差（mse）、categorical_crossentropy、binary_crossentropy。损失函数由名称或通过从tf.keras.losses模块传递可调用对象来指定。\n",
        "\n",
        "metrics：用于监控训练。它们是tf.keras.metrics模块中的字符名称或可调用对象。"
      ]
    },
    {
      "cell_type": "code",
      "metadata": {
        "id": "N_dSY7T2I1kg",
        "colab_type": "code",
        "outputId": "daaf4795-3c5b-42ed-af56-9a04741b21db",
        "colab": {
          "base_uri": "https://localhost:8080/",
          "height": 395
        }
      },
      "source": [
        "import tensorflow as tf\n",
        "from tensorflow.keras import layers\n",
        "import numpy as np\n",
        "#训练流程\n",
        "model = tf.keras.Sequential([\n",
        "    layers.Dense(64, activation='relu'),\n",
        "    layers.Dense(64, activation='relu'),\n",
        "    layers.Dense(10, activation='softmax')\n",
        "])\n",
        "model.compile(optimizer=tf.train.AdamOptimizer(0.001),\n",
        "              loss='categorical_crossentropy',\n",
        "              metrics=['accuracy'])\n",
        "data = np.random.random((1000, 32))\n",
        "labels = np.random.random((1000, 10))\n",
        "\n",
        "model.fit(data, labels, epochs=10, batch_size=32)"
      ],
      "execution_count": 6,
      "outputs": [
        {
          "output_type": "stream",
          "text": [
            "Epoch 1/10\n",
            "1000/1000 [==============================] - 0s 359us/sample - loss: 11.9682 - acc: 0.0930\n",
            "Epoch 2/10\n",
            "1000/1000 [==============================] - 0s 49us/sample - loss: 16.4528 - acc: 0.0880\n",
            "Epoch 3/10\n",
            "1000/1000 [==============================] - 0s 48us/sample - loss: 29.8564 - acc: 0.1030\n",
            "Epoch 4/10\n",
            "1000/1000 [==============================] - 0s 48us/sample - loss: 53.9978 - acc: 0.1030\n",
            "Epoch 5/10\n",
            "1000/1000 [==============================] - 0s 52us/sample - loss: 84.9214 - acc: 0.0970\n",
            "Epoch 6/10\n",
            "1000/1000 [==============================] - 0s 48us/sample - loss: 121.7823 - acc: 0.1000\n",
            "Epoch 7/10\n",
            "1000/1000 [==============================] - 0s 49us/sample - loss: 159.5629 - acc: 0.1030\n",
            "Epoch 8/10\n",
            "1000/1000 [==============================] - 0s 49us/sample - loss: 168.6828 - acc: 0.0980\n",
            "Epoch 9/10\n",
            "1000/1000 [==============================] - 0s 47us/sample - loss: 171.0908 - acc: 0.1130\n",
            "Epoch 10/10\n",
            "1000/1000 [==============================] - 0s 51us/sample - loss: 160.5736 - acc: 0.1120\n"
          ],
          "name": "stdout"
        },
        {
          "output_type": "execute_result",
          "data": {
            "text/plain": [
              "<tensorflow.python.keras.callbacks.History at 0x7fc20f5842b0>"
            ]
          },
          "metadata": {
            "tags": []
          },
          "execution_count": 6
        }
      ]
    },
    {
      "cell_type": "markdown",
      "metadata": {
        "id": "EgnB85ZGVYV3",
        "colab_type": "text"
      },
      "source": [
        "tf.keras.Model.fit 采用三个重要参数：\n",
        "\n",
        "epochs：以周期为单位进行训练。一个周期是对整个输入数据的一次迭代（以较小的批次完成迭代）。\n",
        "\n",
        "\n",
        "batch_size：当传递 NumPy 数据时，模型将数据分成较小的批次，并在训练期间迭代这些批次。此整数指定每个批次的大小。请注意，如果样本总数不能被批次大小整除，则最后一个批次可能更小。\n",
        "\n",
        "\n",
        "validation_data：在对模型进行原型设计时，您需要轻松监控该模型在某些验证数据上达到的效果。传递此参数（输入和标签元组）可以让该模型在每个周期结束时以推理模式显示所传递数据的损失和指标。"
      ]
    },
    {
      "cell_type": "code",
      "metadata": {
        "id": "DY7vIgQIU-Nd",
        "colab_type": "code",
        "colab": {
          "base_uri": "https://localhost:8080/",
          "height": 413
        },
        "outputId": "1b260763-597f-4531-fc15-36bcd729d945"
      },
      "source": [
        "val_data = np.random.random((100, 32))\n",
        "val_labels = np.random.random((100, 10))\n",
        "\n",
        "model.fit(data, labels, epochs=10, batch_size=32, validation_data=(val_data, val_labels))"
      ],
      "execution_count": 7,
      "outputs": [
        {
          "output_type": "stream",
          "text": [
            "Train on 1000 samples, validate on 100 samples\n",
            "Epoch 1/10\n",
            "1000/1000 [==============================] - 0s 85us/sample - loss: 116.0791 - acc: 0.1050 - val_loss: 80.0409 - val_acc: 0.1100\n",
            "Epoch 2/10\n",
            "1000/1000 [==============================] - 0s 56us/sample - loss: 55.1629 - acc: 0.0940 - val_loss: 46.7815 - val_acc: 0.1100\n",
            "Epoch 3/10\n",
            "1000/1000 [==============================] - 0s 54us/sample - loss: 54.0926 - acc: 0.0960 - val_loss: 52.8723 - val_acc: 0.1100\n",
            "Epoch 4/10\n",
            "1000/1000 [==============================] - 0s 55us/sample - loss: 59.3641 - acc: 0.0950 - val_loss: 70.6898 - val_acc: 0.1100\n",
            "Epoch 5/10\n",
            "1000/1000 [==============================] - 0s 55us/sample - loss: 58.8211 - acc: 0.0880 - val_loss: 52.2981 - val_acc: 0.1000\n",
            "Epoch 6/10\n",
            "1000/1000 [==============================] - 0s 55us/sample - loss: 77.0860 - acc: 0.1060 - val_loss: 39.4746 - val_acc: 0.1300\n",
            "Epoch 7/10\n",
            "1000/1000 [==============================] - 0s 57us/sample - loss: 83.5758 - acc: 0.1100 - val_loss: 130.9979 - val_acc: 0.1000\n",
            "Epoch 8/10\n",
            "1000/1000 [==============================] - 0s 58us/sample - loss: 94.6013 - acc: 0.0930 - val_loss: 116.0918 - val_acc: 0.1100\n",
            "Epoch 9/10\n",
            "1000/1000 [==============================] - 0s 55us/sample - loss: 140.8214 - acc: 0.0950 - val_loss: 144.6830 - val_acc: 0.1000\n",
            "Epoch 10/10\n",
            "1000/1000 [==============================] - 0s 53us/sample - loss: 168.8630 - acc: 0.1040 - val_loss: 152.9272 - val_acc: 0.1100\n"
          ],
          "name": "stdout"
        },
        {
          "output_type": "execute_result",
          "data": {
            "text/plain": [
              "<tensorflow.python.keras.callbacks.History at 0x7fc20f584c18>"
            ]
          },
          "metadata": {
            "tags": []
          },
          "execution_count": 7
        }
      ]
    },
    {
      "cell_type": "markdown",
      "metadata": {
        "id": "uNOxIBPZWu11",
        "colab_type": "text"
      },
      "source": [
        "输入 tf.data 数据集\n",
        "使用 Datasets API 可扩展为大型数据集或多设备训练。将 tf.data.Dataset 实例传递到 fit 方法：\n",
        "\n",
        "\n",
        "fit 方法使用了 steps_per_epoch 参数（表示模型在进入下一个周期之前运行的训练步数）。由于 Dataset 会生成批次数据，因此该代码段不需要 batch_size。\n"
      ]
    },
    {
      "cell_type": "code",
      "metadata": {
        "id": "uGgYCUH2WFK-",
        "colab_type": "code",
        "colab": {
          "base_uri": "https://localhost:8080/",
          "height": 433
        },
        "outputId": "14e9d5fe-d033-42a8-b5e0-9665a464aaf1"
      },
      "source": [
        "dataset = tf.data.Dataset.from_tensor_slices((data, labels))\n",
        "dataset = dataset.batch(32)\n",
        "dataset = dataset.repeat()\n",
        "model.fit(dataset, epochs=10, steps_per_epoch=30)"
      ],
      "execution_count": 8,
      "outputs": [
        {
          "output_type": "stream",
          "text": [
            "W0816 08:12:05.567012 140472429217664 training_utils.py:1300] Expected a shuffled dataset but input dataset `x` is not shuffled. Please invoke `shuffle()` on input dataset.\n"
          ],
          "name": "stderr"
        },
        {
          "output_type": "stream",
          "text": [
            "Epoch 1/10\n",
            "30/30 [==============================] - 0s 4ms/step - loss: 194.3538 - acc: 0.0896\n",
            "Epoch 2/10\n",
            "30/30 [==============================] - 0s 2ms/step - loss: 204.0884 - acc: 0.0972\n",
            "Epoch 3/10\n",
            "30/30 [==============================] - 0s 2ms/step - loss: 183.9793 - acc: 0.0983\n",
            "Epoch 4/10\n",
            "30/30 [==============================] - 0s 2ms/step - loss: 256.5756 - acc: 0.0983\n",
            "Epoch 5/10\n",
            "30/30 [==============================] - 0s 2ms/step - loss: 230.7078 - acc: 0.1079\n",
            "Epoch 6/10\n",
            "30/30 [==============================] - 0s 2ms/step - loss: 275.7772 - acc: 0.1068\n",
            "Epoch 7/10\n",
            "30/30 [==============================] - 0s 2ms/step - loss: 340.3192 - acc: 0.0983\n",
            "Epoch 8/10\n",
            "30/30 [==============================] - 0s 2ms/step - loss: 403.1220 - acc: 0.0951\n",
            "Epoch 9/10\n",
            "30/30 [==============================] - 0s 2ms/step - loss: 374.8647 - acc: 0.0972\n",
            "Epoch 10/10\n",
            "30/30 [==============================] - 0s 2ms/step - loss: 309.4513 - acc: 0.0951\n"
          ],
          "name": "stdout"
        },
        {
          "output_type": "execute_result",
          "data": {
            "text/plain": [
              "<tensorflow.python.keras.callbacks.History at 0x7fc225a40be0>"
            ]
          },
          "metadata": {
            "tags": []
          },
          "execution_count": 8
        }
      ]
    },
    {
      "cell_type": "markdown",
      "metadata": {
        "id": "uvCHvUQ-XjTv",
        "colab_type": "text"
      },
      "source": [
        "评估和预测\n",
        "tf.keras.Model.evaluate 和 tf.keras.Model.predict 方法可以使用 NumPy 数据和 tf.data.Dataset。"
      ]
    },
    {
      "cell_type": "code",
      "metadata": {
        "id": "aPSJ4rqhXAll",
        "colab_type": "code",
        "outputId": "39e59ada-369b-4dd6-846d-3b01a50b2991",
        "colab": {
          "base_uri": "https://localhost:8080/",
          "height": 71
        }
      },
      "source": [
        "model.evaluate(data, labels, batch_size=32)\n",
        "model.evaluate(dataset, steps=30)"
      ],
      "execution_count": 9,
      "outputs": [
        {
          "output_type": "stream",
          "text": [
            "1000/1000 [==============================] - 0s 27us/sample - loss: 463.7803 - acc: 0.0910\n",
            "30/30 [==============================] - 0s 2ms/step - loss: 463.7555 - acc: 0.0948\n"
          ],
          "name": "stdout"
        },
        {
          "output_type": "execute_result",
          "data": {
            "text/plain": [
              "[463.75551147460936, 0.094791666]"
            ]
          },
          "metadata": {
            "tags": []
          },
          "execution_count": 9
        }
      ]
    },
    {
      "cell_type": "markdown",
      "metadata": {
        "id": "ph8frBfEYIzw",
        "colab_type": "text"
      },
      "source": [
        "**构建高级模型**\n",
        "\n",
        "\n",
        "函数式 API\n",
        "\n",
        "\n",
        "tf.keras.Sequential 模型是层的简单堆叠，无法表示任意模型。使用 Keras 函数式 API 可以构建复杂的模型拓扑，例如：\n",
        "\n",
        "多输入模型，\n",
        "多输出模型，\n",
        "具有共享层的模型（同一层被调用多次），\n",
        "具有非序列数据流的模型（例如，剩余连接）。\n",
        "\n",
        "\n",
        "使用函数式 API 构建的模型具有以下特征：\n",
        "\n",
        "层实例可调用并返回张量。\n",
        "输入张量和输出张量用于定义 tf.keras.Model 实例。\n",
        "此模型的训练方式和 Sequential 模型一样。"
      ]
    },
    {
      "cell_type": "code",
      "metadata": {
        "id": "RQrfgNGGX2Rl",
        "colab_type": "code",
        "outputId": "ade205c5-3b48-472e-8ba0-8404440f29ca",
        "colab": {
          "base_uri": "https://localhost:8080/",
          "height": 289
        }
      },
      "source": [
        "#示例：使用函数式API构建一个简单的全连接网络\n",
        "inputs = tf.keras.Input(shape=(32,)) #return a placeholder\n",
        "#A layer instance is callable on a tensor, and returns a tensor\n",
        "x = layers.Dense(64, activation='relu')(inputs)\n",
        "x = layers.Dense(64, activation='relu')(x)\n",
        "predictions = layers.Dense(10, activation='softmax')(x)\n",
        "\n",
        "model = tf.keras.Model(inputs=inputs, outputs=predictions)\n",
        "model.compile(optimizer=tf.train.RMSPropOptimizer(0.001), \n",
        "              loss='categorical_crossentropy', \n",
        "             metrics=['accuracy'])\n",
        "model.fit(data, labels, batch_size=32, epochs=5)"
      ],
      "execution_count": 10,
      "outputs": [
        {
          "output_type": "stream",
          "text": [
            "W0816 08:12:06.635407 140472429217664 deprecation.py:506] From /usr/local/lib/python3.6/dist-packages/tensorflow/python/training/rmsprop.py:119: calling Ones.__init__ (from tensorflow.python.ops.init_ops) with dtype is deprecated and will be removed in a future version.\n",
            "Instructions for updating:\n",
            "Call initializer instance with the dtype argument instead of passing it to the constructor\n"
          ],
          "name": "stderr"
        },
        {
          "output_type": "stream",
          "text": [
            "Epoch 1/5\n",
            "1000/1000 [==============================] - 0s 89us/sample - loss: 11.8994 - acc: 0.0920\n",
            "Epoch 2/5\n",
            "1000/1000 [==============================] - 0s 42us/sample - loss: 12.6780 - acc: 0.1100\n",
            "Epoch 3/5\n",
            "1000/1000 [==============================] - 0s 43us/sample - loss: 19.6166 - acc: 0.1010\n",
            "Epoch 4/5\n",
            "1000/1000 [==============================] - 0s 44us/sample - loss: 36.5039 - acc: 0.0970\n",
            "Epoch 5/5\n",
            "1000/1000 [==============================] - 0s 44us/sample - loss: 53.5144 - acc: 0.0990\n"
          ],
          "name": "stdout"
        },
        {
          "output_type": "execute_result",
          "data": {
            "text/plain": [
              "<tensorflow.python.keras.callbacks.History at 0x7fc2083e5ac8>"
            ]
          },
          "metadata": {
            "tags": []
          },
          "execution_count": 10
        }
      ]
    },
    {
      "cell_type": "markdown",
      "metadata": {
        "id": "uvyuIX_mdaBX",
        "colab_type": "text"
      },
      "source": [
        "**模型子类化**\n",
        "\n",
        "\n",
        "通过对 tf.keras.Model 进行子类化并定义您自己的前向传播来构建完全可自定义的模型。在 __init__ 方法中创建层并将它们设置为类实例的属性。在 call 方法中定义前向传播。\n",
        "\n",
        "\n",
        "在启用 Eager Execution 时，模型子类化特别有用，因为可以命令式地编写前向传播。"
      ]
    },
    {
      "cell_type": "code",
      "metadata": {
        "id": "Xb23hedqaEZI",
        "colab_type": "code",
        "colab": {}
      },
      "source": [
        "class MyModel(tf.keras.Model):\n",
        "  def __init__(self, num_classes=10):\n",
        "    super(MyModel, self).__init__(name='my_model')\n",
        "    self.num_classes = num_classes\n",
        "    self.dense_1 = layers.Dense(32, activation='relu')\n",
        "    self.dense_2 = layers.Dense(num_classes, activation='sigmoid')\n",
        "  def call(self, inputs):\n",
        "    x = self.dense_1(inputs)\n",
        "    return self.dense_2(x)\n",
        "  def compute_output_shape(self, input_shape):\n",
        "    shape = tf.TesorShape(input_shape).as_list()\n",
        "    shape[-1] = self.num_classes\n",
        "    return tf.TensorShape(shape)\n",
        "  \n",
        "model = MyModel(num_classes=10)\n",
        "model.compile(optimizer=tf.train.RMSPropOptimizer(0.001),\n",
        "               loss='categorical_crossentropy',\n",
        "               metrics=['accuracy'])\n",
        "model.fit(data, labels, batch_size=32, epochs=10)"
      ],
      "execution_count": 0,
      "outputs": []
    },
    {
      "cell_type": "markdown",
      "metadata": {
        "id": "5-L1vkpgCu_n",
        "colab_type": "text"
      },
      "source": [
        "回调\n",
        "回调是传递给模型的对象，用于在训练期间自定义该模型并扩展其行为。您可以编写自定义回调，也可以使用包含以下方法的内置 tf.keras.callbacks：\n",
        "\n",
        "tf.keras.callbacks.ModelCheckpoint：定期保存模型的检查点。\n",
        "\n",
        "\n",
        "tf.keras.callbacks.LearningRateScheduler：动态更改学习速率。\n",
        "\n",
        "\n",
        "tf.keras.callbacks.EarlyStopping：在验证效果不再改进时中断训练。\n",
        "\n",
        "\n",
        "tf.keras.callbacks.TensorBoard：使用 TensorBoard 监控模型的行为。\n",
        "\n",
        "\n",
        "要使用 tf.keras.callbacks.Callback，请将其传递给模型的 fit 方法："
      ]
    },
    {
      "cell_type": "markdown",
      "metadata": {
        "id": "kUtd3lNjgpjv",
        "colab_type": "text"
      },
      "source": [
        ""
      ]
    },
    {
      "cell_type": "code",
      "metadata": {
        "id": "KecngasmgcbP",
        "colab_type": "code",
        "colab": {}
      },
      "source": [
        ""
      ],
      "execution_count": 0,
      "outputs": []
    },
    {
      "cell_type": "markdown",
      "metadata": {
        "id": "h1deSE4jDjEr",
        "colab_type": "text"
      },
      "source": [
        "保存和恢复\n",
        "\n",
        "\n",
        "仅限权重\n",
        "\n",
        "\n",
        "使用 tf.keras.Model.save_weights 保存并加载模型的权重："
      ]
    },
    {
      "cell_type": "code",
      "metadata": {
        "id": "im-f_6u8DnmI",
        "colab_type": "code",
        "colab": {}
      },
      "source": [
        "model = tf.keras.Sequential(\n",
        "[layers.Dense(64, activation='relu'),\n",
        "layers.Dense(10, activation='softmax')])\n",
        "\n",
        "model.compile(optimizer=tf.train.AdamOptimizer(0.001),\n",
        "             loss='categorical_crossentropy',\n",
        "             metrics=['accuracy'])\n",
        "\n",
        "#save weights\n",
        "model.save_weights(\"mymodel\")\n",
        "#restore the woghts\n",
        "model.load_weights\n",
        "#save the wights to a HDF5 file\n",
        "mode.save_weights('my_model.h5', save_format='h5')\n"
      ],
      "execution_count": 0,
      "outputs": []
    },
    {
      "cell_type": "markdown",
      "metadata": {
        "id": "q12xfd12E1vJ",
        "colab_type": "text"
      },
      "source": [
        "仅限配置\n",
        "可以保存模型的配置，此操作会对模型架构（不含任何权重）进行序列化。即使没有定义原始模型的代码，保存的配置也可以重新创建并初始化相同的模型。Keras 支持 JSON 和 YAML 序列化格式："
      ]
    },
    {
      "cell_type": "code",
      "metadata": {
        "id": "lKAWB33iE4Y_",
        "colab_type": "code",
        "colab": {
          "base_uri": "https://localhost:8080/",
          "height": 35
        },
        "outputId": "983813a0-b8a5-4e47-bf8a-04e179daab35"
      },
      "source": [
        "#Serialize a model to JSON format\n",
        "json_string = model.to_json\n",
        "json_string"
      ],
      "execution_count": 15,
      "outputs": [
        {
          "output_type": "execute_result",
          "data": {
            "text/plain": [
              "<bound method Network.to_json of <__main__.MyModel object at 0x7fc225a382e8>>"
            ]
          },
          "metadata": {
            "tags": []
          },
          "execution_count": 15
        }
      ]
    },
    {
      "cell_type": "code",
      "metadata": {
        "id": "M2aE1fNXFDq5",
        "colab_type": "code",
        "colab": {}
      },
      "source": [
        "import json\n",
        "import pprint\n",
        "pprint.pprint(json.loads(json_string))"
      ],
      "execution_count": 0,
      "outputs": []
    },
    {
      "cell_type": "code",
      "metadata": {
        "id": "CvOhrPp1FM-m",
        "colab_type": "code",
        "colab": {}
      },
      "source": [
        "#从json重新创建模型（刚刚初始化）\n",
        "fresh_model = tf.keras.model_from_json(json_string)"
      ],
      "execution_count": 0,
      "outputs": []
    },
    {
      "cell_type": "code",
      "metadata": {
        "id": "HXNbTP3bFjvZ",
        "colab_type": "code",
        "colab": {}
      },
      "source": [
        ""
      ],
      "execution_count": 0,
      "outputs": []
    }
  ]
}